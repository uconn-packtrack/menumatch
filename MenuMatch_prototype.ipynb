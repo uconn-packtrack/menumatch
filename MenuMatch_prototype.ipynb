{
  "nbformat": 4,
  "nbformat_minor": 0,
  "metadata": {
    "colab": {
      "provenance": []
    },
    "kernelspec": {
      "name": "python3",
      "display_name": "Python 3"
    },
    "language_info": {
      "name": "python"
    },
    "widgets": {
      "application/vnd.jupyter.widget-state+json": {
        "a473a6955bb54a2b9dfa928c79955c49": {
          "model_module": "@jupyter-widgets/controls",
          "model_name": "HBoxModel",
          "model_module_version": "1.5.0",
          "state": {
            "_dom_classes": [],
            "_model_module": "@jupyter-widgets/controls",
            "_model_module_version": "1.5.0",
            "_model_name": "HBoxModel",
            "_view_count": null,
            "_view_module": "@jupyter-widgets/controls",
            "_view_module_version": "1.5.0",
            "_view_name": "HBoxView",
            "box_style": "",
            "children": [
              "IPY_MODEL_adb332d735f943d0908db99dbe1c3c9c",
              "IPY_MODEL_11ffb1265e344e029cd4102c182f0f99",
              "IPY_MODEL_c5062cd7bb094925986740c8dcd2535c"
            ],
            "layout": "IPY_MODEL_b35fa40b666e437ea2364b8c35e6b6bc"
          }
        },
        "adb332d735f943d0908db99dbe1c3c9c": {
          "model_module": "@jupyter-widgets/controls",
          "model_name": "HTMLModel",
          "model_module_version": "1.5.0",
          "state": {
            "_dom_classes": [],
            "_model_module": "@jupyter-widgets/controls",
            "_model_module_version": "1.5.0",
            "_model_name": "HTMLModel",
            "_view_count": null,
            "_view_module": "@jupyter-widgets/controls",
            "_view_module_version": "1.5.0",
            "_view_name": "HTMLView",
            "description": "",
            "description_tooltip": null,
            "layout": "IPY_MODEL_2cdc36c5c18f4979a02cb2d274ea1b59",
            "placeholder": "​",
            "style": "IPY_MODEL_1172db9d63794960b1aaf570679e07ac",
            "value": "open_clip_pytorch_model.bin: 100%"
          }
        },
        "11ffb1265e344e029cd4102c182f0f99": {
          "model_module": "@jupyter-widgets/controls",
          "model_name": "FloatProgressModel",
          "model_module_version": "1.5.0",
          "state": {
            "_dom_classes": [],
            "_model_module": "@jupyter-widgets/controls",
            "_model_module_version": "1.5.0",
            "_model_name": "FloatProgressModel",
            "_view_count": null,
            "_view_module": "@jupyter-widgets/controls",
            "_view_module_version": "1.5.0",
            "_view_name": "ProgressView",
            "bar_style": "success",
            "description": "",
            "description_tooltip": null,
            "layout": "IPY_MODEL_ca11c748513043e288ba922d2f9f7882",
            "max": 605219813,
            "min": 0,
            "orientation": "horizontal",
            "style": "IPY_MODEL_a8ee3ec4c5414336bccafa7cbe635f72",
            "value": 605219813
          }
        },
        "c5062cd7bb094925986740c8dcd2535c": {
          "model_module": "@jupyter-widgets/controls",
          "model_name": "HTMLModel",
          "model_module_version": "1.5.0",
          "state": {
            "_dom_classes": [],
            "_model_module": "@jupyter-widgets/controls",
            "_model_module_version": "1.5.0",
            "_model_name": "HTMLModel",
            "_view_count": null,
            "_view_module": "@jupyter-widgets/controls",
            "_view_module_version": "1.5.0",
            "_view_name": "HTMLView",
            "description": "",
            "description_tooltip": null,
            "layout": "IPY_MODEL_8a9c2ab613fa47999a737e2147962563",
            "placeholder": "​",
            "style": "IPY_MODEL_976d6ad35e2b430db4067665dda4c98d",
            "value": " 605M/605M [00:25&lt;00:00, 22.4MB/s]"
          }
        },
        "b35fa40b666e437ea2364b8c35e6b6bc": {
          "model_module": "@jupyter-widgets/base",
          "model_name": "LayoutModel",
          "model_module_version": "1.2.0",
          "state": {
            "_model_module": "@jupyter-widgets/base",
            "_model_module_version": "1.2.0",
            "_model_name": "LayoutModel",
            "_view_count": null,
            "_view_module": "@jupyter-widgets/base",
            "_view_module_version": "1.2.0",
            "_view_name": "LayoutView",
            "align_content": null,
            "align_items": null,
            "align_self": null,
            "border": null,
            "bottom": null,
            "display": null,
            "flex": null,
            "flex_flow": null,
            "grid_area": null,
            "grid_auto_columns": null,
            "grid_auto_flow": null,
            "grid_auto_rows": null,
            "grid_column": null,
            "grid_gap": null,
            "grid_row": null,
            "grid_template_areas": null,
            "grid_template_columns": null,
            "grid_template_rows": null,
            "height": null,
            "justify_content": null,
            "justify_items": null,
            "left": null,
            "margin": null,
            "max_height": null,
            "max_width": null,
            "min_height": null,
            "min_width": null,
            "object_fit": null,
            "object_position": null,
            "order": null,
            "overflow": null,
            "overflow_x": null,
            "overflow_y": null,
            "padding": null,
            "right": null,
            "top": null,
            "visibility": null,
            "width": null
          }
        },
        "2cdc36c5c18f4979a02cb2d274ea1b59": {
          "model_module": "@jupyter-widgets/base",
          "model_name": "LayoutModel",
          "model_module_version": "1.2.0",
          "state": {
            "_model_module": "@jupyter-widgets/base",
            "_model_module_version": "1.2.0",
            "_model_name": "LayoutModel",
            "_view_count": null,
            "_view_module": "@jupyter-widgets/base",
            "_view_module_version": "1.2.0",
            "_view_name": "LayoutView",
            "align_content": null,
            "align_items": null,
            "align_self": null,
            "border": null,
            "bottom": null,
            "display": null,
            "flex": null,
            "flex_flow": null,
            "grid_area": null,
            "grid_auto_columns": null,
            "grid_auto_flow": null,
            "grid_auto_rows": null,
            "grid_column": null,
            "grid_gap": null,
            "grid_row": null,
            "grid_template_areas": null,
            "grid_template_columns": null,
            "grid_template_rows": null,
            "height": null,
            "justify_content": null,
            "justify_items": null,
            "left": null,
            "margin": null,
            "max_height": null,
            "max_width": null,
            "min_height": null,
            "min_width": null,
            "object_fit": null,
            "object_position": null,
            "order": null,
            "overflow": null,
            "overflow_x": null,
            "overflow_y": null,
            "padding": null,
            "right": null,
            "top": null,
            "visibility": null,
            "width": null
          }
        },
        "1172db9d63794960b1aaf570679e07ac": {
          "model_module": "@jupyter-widgets/controls",
          "model_name": "DescriptionStyleModel",
          "model_module_version": "1.5.0",
          "state": {
            "_model_module": "@jupyter-widgets/controls",
            "_model_module_version": "1.5.0",
            "_model_name": "DescriptionStyleModel",
            "_view_count": null,
            "_view_module": "@jupyter-widgets/base",
            "_view_module_version": "1.2.0",
            "_view_name": "StyleView",
            "description_width": ""
          }
        },
        "ca11c748513043e288ba922d2f9f7882": {
          "model_module": "@jupyter-widgets/base",
          "model_name": "LayoutModel",
          "model_module_version": "1.2.0",
          "state": {
            "_model_module": "@jupyter-widgets/base",
            "_model_module_version": "1.2.0",
            "_model_name": "LayoutModel",
            "_view_count": null,
            "_view_module": "@jupyter-widgets/base",
            "_view_module_version": "1.2.0",
            "_view_name": "LayoutView",
            "align_content": null,
            "align_items": null,
            "align_self": null,
            "border": null,
            "bottom": null,
            "display": null,
            "flex": null,
            "flex_flow": null,
            "grid_area": null,
            "grid_auto_columns": null,
            "grid_auto_flow": null,
            "grid_auto_rows": null,
            "grid_column": null,
            "grid_gap": null,
            "grid_row": null,
            "grid_template_areas": null,
            "grid_template_columns": null,
            "grid_template_rows": null,
            "height": null,
            "justify_content": null,
            "justify_items": null,
            "left": null,
            "margin": null,
            "max_height": null,
            "max_width": null,
            "min_height": null,
            "min_width": null,
            "object_fit": null,
            "object_position": null,
            "order": null,
            "overflow": null,
            "overflow_x": null,
            "overflow_y": null,
            "padding": null,
            "right": null,
            "top": null,
            "visibility": null,
            "width": null
          }
        },
        "a8ee3ec4c5414336bccafa7cbe635f72": {
          "model_module": "@jupyter-widgets/controls",
          "model_name": "ProgressStyleModel",
          "model_module_version": "1.5.0",
          "state": {
            "_model_module": "@jupyter-widgets/controls",
            "_model_module_version": "1.5.0",
            "_model_name": "ProgressStyleModel",
            "_view_count": null,
            "_view_module": "@jupyter-widgets/base",
            "_view_module_version": "1.2.0",
            "_view_name": "StyleView",
            "bar_color": null,
            "description_width": ""
          }
        },
        "8a9c2ab613fa47999a737e2147962563": {
          "model_module": "@jupyter-widgets/base",
          "model_name": "LayoutModel",
          "model_module_version": "1.2.0",
          "state": {
            "_model_module": "@jupyter-widgets/base",
            "_model_module_version": "1.2.0",
            "_model_name": "LayoutModel",
            "_view_count": null,
            "_view_module": "@jupyter-widgets/base",
            "_view_module_version": "1.2.0",
            "_view_name": "LayoutView",
            "align_content": null,
            "align_items": null,
            "align_self": null,
            "border": null,
            "bottom": null,
            "display": null,
            "flex": null,
            "flex_flow": null,
            "grid_area": null,
            "grid_auto_columns": null,
            "grid_auto_flow": null,
            "grid_auto_rows": null,
            "grid_column": null,
            "grid_gap": null,
            "grid_row": null,
            "grid_template_areas": null,
            "grid_template_columns": null,
            "grid_template_rows": null,
            "height": null,
            "justify_content": null,
            "justify_items": null,
            "left": null,
            "margin": null,
            "max_height": null,
            "max_width": null,
            "min_height": null,
            "min_width": null,
            "object_fit": null,
            "object_position": null,
            "order": null,
            "overflow": null,
            "overflow_x": null,
            "overflow_y": null,
            "padding": null,
            "right": null,
            "top": null,
            "visibility": null,
            "width": null
          }
        },
        "976d6ad35e2b430db4067665dda4c98d": {
          "model_module": "@jupyter-widgets/controls",
          "model_name": "DescriptionStyleModel",
          "model_module_version": "1.5.0",
          "state": {
            "_model_module": "@jupyter-widgets/controls",
            "_model_module_version": "1.5.0",
            "_model_name": "DescriptionStyleModel",
            "_view_count": null,
            "_view_module": "@jupyter-widgets/base",
            "_view_module_version": "1.2.0",
            "_view_name": "StyleView",
            "description_width": ""
          }
        }
      }
    }
  },
  "cells": [
    {
      "cell_type": "markdown",
      "source": [
        "# Install dependencies\n"
      ],
      "metadata": {
        "id": "2gdYYIXSE7uN"
      }
    },
    {
      "cell_type": "code",
      "source": [
        "!pip -q install open_clip_torch==2.24.0 timm==1.0.9 scikit-image==0.24.0 pillow==10.4.0\n"
      ],
      "metadata": {
        "colab": {
          "base_uri": "https://localhost:8080/",
          "height": 0
        },
        "id": "7iCyZFn0E_YN",
        "outputId": "d6002ac7-6085-41ec-edff-4a8b36b4cc5f"
      },
      "execution_count": 5,
      "outputs": [
        {
          "output_type": "stream",
          "name": "stdout",
          "text": [
            "\u001b[2K     \u001b[90m━━━━━━━━━━━━━━━━━━━━━━━━━━━━━━━━━━━━━━━━\u001b[0m \u001b[32m42.4/42.4 kB\u001b[0m \u001b[31m2.4 MB/s\u001b[0m eta \u001b[36m0:00:00\u001b[0m\n",
            "\u001b[2K   \u001b[90m━━━━━━━━━━━━━━━━━━━━━━━━━━━━━━━━━━━━━━━━\u001b[0m \u001b[32m1.5/1.5 MB\u001b[0m \u001b[31m28.7 MB/s\u001b[0m eta \u001b[36m0:00:00\u001b[0m\n",
            "\u001b[2K   \u001b[90m━━━━━━━━━━━━━━━━━━━━━━━━━━━━━━━━━━━━━━━━\u001b[0m \u001b[32m2.3/2.3 MB\u001b[0m \u001b[31m71.5 MB/s\u001b[0m eta \u001b[36m0:00:00\u001b[0m\n",
            "\u001b[2K   \u001b[90m━━━━━━━━━━━━━━━━━━━━━━━━━━━━━━━━━━━━━━━━\u001b[0m \u001b[32m15.0/15.0 MB\u001b[0m \u001b[31m76.2 MB/s\u001b[0m eta \u001b[36m0:00:00\u001b[0m\n",
            "\u001b[2K   \u001b[90m━━━━━━━━━━━━━━━━━━━━━━━━━━━━━━━━━━━━━━━━\u001b[0m \u001b[32m4.5/4.5 MB\u001b[0m \u001b[31m102.0 MB/s\u001b[0m eta \u001b[36m0:00:00\u001b[0m\n",
            "\u001b[2K   \u001b[90m━━━━━━━━━━━━━━━━━━━━━━━━━━━━━━━━━━━━━━━━\u001b[0m \u001b[32m44.8/44.8 kB\u001b[0m \u001b[31m2.9 MB/s\u001b[0m eta \u001b[36m0:00:00\u001b[0m\n",
            "\u001b[?25h"
          ]
        }
      ]
    },
    {
      "cell_type": "markdown",
      "source": [
        "# Imports\n"
      ],
      "metadata": {
        "id": "n3zZFMIQBv60"
      }
    },
    {
      "cell_type": "code",
      "execution_count": 7,
      "metadata": {
        "id": "WMiO_lvZSgx9"
      },
      "outputs": [],
      "source": [
        "import io, numpy as np, PIL.Image as Image, torch\n",
        "import open_clip\n",
        "from google.colab import files\n",
        "from skimage.segmentation import felzenszwalb\n",
        "from skimage.util import img_as_float\n",
        "from skimage.transform import resize"
      ]
    },
    {
      "cell_type": "markdown",
      "source": [
        "# Load dining hall menu data\n"
      ],
      "metadata": {
        "id": "_ZDYsRZlB1pk"
      }
    },
    {
      "cell_type": "code",
      "source": [
        "# TODO: From image metadata, set dining_hall_id based on location, and then date and time\n",
        "dining_hall_id = 2 # south\n",
        "date = \"09-25-2025\"\n",
        "meal = \"Lunch\"\n",
        "\n",
        "# TODO: Load menu from API\n",
        "MENU_ITEMS = [\n",
        "\"Chef's Choice Soup du Jour\",\n",
        "\"Fish of the Day w/ Shrimp Scampi Butter\",\n",
        "\"Cheese Pizza\",\n",
        "\"Pepperoni Pizza\",\n",
        "\"Special Pizza\",\n",
        "\"Marinara Sauce\",\n",
        "\"Chefs Choice Vegetable Stir Fry\",\n",
        "\"General Tso's Chicken\",\n",
        "\"Sesame Noodles\",\n",
        "\"White Rice\",\n",
        "\"Five Spice Beef Tips\",\n",
        "\"Green Beans\",\n",
        "\"Halal Rice & Orzo Pilaf\",\n",
        "\"Beef Burger No Bun\",\n",
        "\"Beet and Kale Burger w/ Bun\",\n",
        "\"Grilled Cheese\",\n",
        "\"Grilled Chicken Breast\",\n",
        "\"Grilled Guinness Bratwurst\",\n",
        "\"Straight Cut French Fries\",\n",
        "\"Caramel Coconut Cookie Bar\",\n",
        "\"Snickerdoodle Cookies\",\n",
        "\"Carrots Roasted With Garlic\",\n",
        "\"Creole Tofu\",\n",
        "\"Outback Chicken with Apple Smoked Bacon\",\n",
        "\"Rice Pilaf\",\n",
        "\"Steamed Broccoli\",\n",
        "\"Whipped Golden Potatoes w/ Roasted Garlic and Rosemary\",\n",
        "]\n"
      ],
      "metadata": {
        "id": "VrxfzurBCTSS"
      },
      "execution_count": 25,
      "outputs": []
    },
    {
      "cell_type": "markdown",
      "source": [
        "# Build output prompts\n"
      ],
      "metadata": {
        "id": "bhPJgpPlDcr-"
      }
    },
    {
      "cell_type": "code",
      "source": [
        "PROMPTS = [\n",
        "    \"a photo of {}\",\n",
        "    \"a plate of {}\",\n",
        "    \"{} on a plate\",\n",
        "    \"cafeteria serving of {}\",\n",
        "    \"dining hall style {}\",\n",
        "]\n",
        "\n",
        "def _prep_text_variants(items, prompts):\n",
        "    variants, ptrs = [], []\n",
        "    for idx, item in enumerate(items):\n",
        "        for p in prompts:\n",
        "            variants.append(p.format(item))\n",
        "            ptrs.append(idx)\n",
        "    return variants, np.array(ptrs)\n",
        "\n",
        "ITEM_TEXT_VARIANTS, ITEM_POINTERS = _prep_text_variants(MENU_ITEMS, PROMPTS)\n",
        "\n",
        "DEVICE = 'cpu'"
      ],
      "metadata": {
        "id": "4rUVmkgFCfAq"
      },
      "execution_count": 26,
      "outputs": []
    },
    {
      "cell_type": "markdown",
      "source": [
        "# Load CLIP model"
      ],
      "metadata": {
        "id": "wOnATQ7ENjdd"
      }
    },
    {
      "cell_type": "code",
      "source": [
        "model, _, preprocess = open_clip.create_model_and_transforms(\n",
        "    \"ViT-B-32\", pretrained=\"laion2b_s34b_b79k\", device=DEVICE\n",
        ")\n",
        "\n",
        "tokenizer = open_clip.get_tokenizer(\"ViT-B-32\")\n"
      ],
      "metadata": {
        "colab": {
          "base_uri": "https://localhost:8080/",
          "height": 180,
          "referenced_widgets": [
            "a473a6955bb54a2b9dfa928c79955c49",
            "adb332d735f943d0908db99dbe1c3c9c",
            "11ffb1265e344e029cd4102c182f0f99",
            "c5062cd7bb094925986740c8dcd2535c",
            "b35fa40b666e437ea2364b8c35e6b6bc",
            "2cdc36c5c18f4979a02cb2d274ea1b59",
            "1172db9d63794960b1aaf570679e07ac",
            "ca11c748513043e288ba922d2f9f7882",
            "a8ee3ec4c5414336bccafa7cbe635f72",
            "8a9c2ab613fa47999a737e2147962563",
            "976d6ad35e2b430db4067665dda4c98d"
          ]
        },
        "id": "qV4-Y9g5JaLW",
        "outputId": "14ef12a3-bf54-4868-8c7c-22a6ce17b089"
      },
      "execution_count": 10,
      "outputs": [
        {
          "output_type": "stream",
          "name": "stderr",
          "text": [
            "/usr/local/lib/python3.12/dist-packages/huggingface_hub/utils/_auth.py:94: UserWarning: \n",
            "The secret `HF_TOKEN` does not exist in your Colab secrets.\n",
            "To authenticate with the Hugging Face Hub, create a token in your settings tab (https://huggingface.co/settings/tokens), set it as secret in your Google Colab and restart your session.\n",
            "You will be able to reuse this secret in all of your notebooks.\n",
            "Please note that authentication is recommended but still optional to access public models or datasets.\n",
            "  warnings.warn(\n"
          ]
        },
        {
          "output_type": "display_data",
          "data": {
            "text/plain": [
              "open_clip_pytorch_model.bin:   0%|          | 0.00/605M [00:00<?, ?B/s]"
            ],
            "application/vnd.jupyter.widget-view+json": {
              "version_major": 2,
              "version_minor": 0,
              "model_id": "a473a6955bb54a2b9dfa928c79955c49"
            }
          },
          "metadata": {}
        }
      ]
    },
    {
      "cell_type": "markdown",
      "source": [
        "# Tokenize prompts"
      ],
      "metadata": {
        "id": "z5-I5oYlb84I"
      }
    },
    {
      "cell_type": "code",
      "source": [
        "with torch.no_grad():\n",
        "    text_tokens = tokenizer(ITEM_TEXT_VARIANTS).to(DEVICE)\n",
        "    text_emb = model.encode_text(text_tokens)\n",
        "    text_emb = text_emb / text_emb.norm(dim=-1, keepdim=True)"
      ],
      "metadata": {
        "id": "O87t4WyzaSdl"
      },
      "execution_count": 27,
      "outputs": []
    },
    {
      "cell_type": "markdown",
      "source": [
        "# Helper functions"
      ],
      "metadata": {
        "id": "ZSDWAnDdbNQC"
      }
    },
    {
      "cell_type": "code",
      "source": [
        "def clip_image_embed(pil_img):\n",
        "    img_in = preprocess(pil_img).unsqueeze(0).to(DEVICE)\n",
        "    with torch.no_grad():\n",
        "        img_emb = model.encode_image(img_in)\n",
        "        return img_emb / img_emb.norm(dim=-1, keepdim=True)\n",
        "\n",
        "def rank_items_from_embedding(img_emb):\n",
        "    sims = (img_emb @ text_emb.T).squeeze(0)\n",
        "    per_item = np.full(len(MENU_ITEMS), -1e9, dtype=np.float32)\n",
        "    sims_cpu = sims.detach().float().cpu().numpy()\n",
        "    for i in range(len(MENU_ITEMS)):\n",
        "        per_item[i] = sims_cpu[ITEM_POINTERS == i].max()\n",
        "    z = (per_item - per_item.mean()) / (per_item.std() + 1e-6)\n",
        "    probs = np.exp(z) / np.exp(z).sum()\n",
        "    return np.argsort(-probs), probs\n",
        "\n",
        "def pretty_print(order, probs, header=\"Predictions\"):\n",
        "    print(f\"\\n{header}\\n\" + \"-\"*len(header))\n",
        "    for rank, idx in enumerate(order, 1):\n",
        "        print(f\"{rank}. {MENU_ITEMS[idx]} (score ~ {probs[idx]:.3f})\")"
      ],
      "metadata": {
        "id": "NhMGLg9QP1lX"
      },
      "execution_count": 28,
      "outputs": []
    },
    {
      "cell_type": "code",
      "source": [
        "img = Image.open(\"south_2025-09-25.jpg\").convert(\"RGB\")\n",
        "\n",
        "emb = clip_image_embed(img)\n",
        "order, probs = rank_items_from_embedding(emb)\n",
        "pretty_print(order, probs, \"Predicted menu items (full image)\")\n",
        "\n",
        "print(\"\\nLikely on the plate:\", [MENU_ITEMS[i] for i in chosen])"
      ],
      "metadata": {
        "colab": {
          "base_uri": "https://localhost:8080/"
        },
        "id": "nBd_TGanYJgl",
        "outputId": "7796f45a-9bab-4d5d-bc44-be0af5d5a76b"
      },
      "execution_count": 29,
      "outputs": [
        {
          "output_type": "stream",
          "name": "stdout",
          "text": [
            "\n",
            "Predicted menu items (full image)\n",
            "---------------------------------\n",
            "1. General Tso's Chicken (score ~ 0.320)\n",
            "2. Creole Tofu (score ~ 0.109)\n",
            "3. White Rice (score ~ 0.102)\n",
            "4. Fish of the Day w/ Shrimp Scampi Butter (score ~ 0.054)\n",
            "5. Five Spice Beef Tips (score ~ 0.046)\n",
            "6. Halal Rice & Orzo Pilaf (score ~ 0.045)\n",
            "7. Rice Pilaf (score ~ 0.035)\n",
            "8. Chefs Choice Vegetable Stir Fry (score ~ 0.032)\n",
            "9. Grilled Chicken Breast (score ~ 0.026)\n",
            "10. Sesame Noodles (score ~ 0.025)\n",
            "11. Steamed Broccoli (score ~ 0.023)\n",
            "12. Green Beans (score ~ 0.023)\n",
            "13. Outback Chicken with Apple Smoked Bacon (score ~ 0.023)\n",
            "14. Marinara Sauce (score ~ 0.019)\n",
            "15. Chef's Choice Soup du Jour (score ~ 0.014)\n",
            "16. Special Pizza (score ~ 0.012)\n",
            "17. Whipped Golden Potatoes w/ Roasted Garlic and Rosemary (score ~ 0.011)\n",
            "18. Snickerdoodle Cookies (score ~ 0.011)\n",
            "19. Grilled Guinness Bratwurst (score ~ 0.011)\n",
            "20. Straight Cut French Fries (score ~ 0.010)\n",
            "21. Beet and Kale Burger w/ Bun (score ~ 0.009)\n",
            "22. Caramel Coconut Cookie Bar (score ~ 0.008)\n",
            "23. Beef Burger No Bun (score ~ 0.008)\n",
            "24. Grilled Cheese (score ~ 0.007)\n",
            "25. Carrots Roasted With Garlic (score ~ 0.007)\n",
            "26. Cheese Pizza (score ~ 0.005)\n",
            "27. Pepperoni Pizza (score ~ 0.004)\n",
            "\n",
            "Likely on the plate: [\"Chef's Choice Soup du Jour\", \"General Tso's Chicken\"]\n"
          ]
        }
      ]
    }
  ]
}